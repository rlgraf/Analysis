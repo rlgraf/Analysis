{
 "cells": [
  {
   "cell_type": "code",
   "execution_count": 1,
   "id": "af98cd43",
   "metadata": {},
   "outputs": [],
   "source": [
    "import numpy as np\n",
    "import matplotlib.pyplot as plt\n",
    "import gizmo_analysis as gizmo\n",
    "import utilities as ut\n",
    "import scipy\n",
    "import utilities.io as ut_io\n",
    "import matplotlib.lines as mlines\n",
    "import scipy"
   ]
  },
  {
   "cell_type": "code",
   "execution_count": 2,
   "id": "fe456fea",
   "metadata": {},
   "outputs": [
    {
     "name": "stdout",
     "output_type": "stream",
     "text": [
      "\n",
      "# in utilities.io.file_hdf5():\n",
      "  reading file:  Final Figures/RAD_profile_z_0_location_cut_median_weighted_all_ages.hdf5\n",
      "    array | float32, shape = (1, 11, 10)\n",
      "\n",
      "# in utilities.io.file_hdf5():\n",
      "  reading file:  Final Figures/RAD_slope_z_0_location_cut_median_weighted_all_ages.hdf5\n",
      "    array | float64, shape = (1, 11, 1)\n"
     ]
    }
   ],
   "source": [
    "RAD_profile_z_0_loc_cut_median_weighted_all_ages = ut.io.file_hdf5('Final Figures/RAD_profile_z_0_location_cut_median_weighted_all_ages')['array']\n",
    "RAD_profile_form_loc_cut_median_weighted_all_ages = ut.io.file_hdf5('Final Figures/RAD_slope_z_0_location_cut_median_weighted_all_ages')['array']"
   ]
  },
  {
   "cell_type": "code",
   "execution_count": null,
   "id": "9f282cc5",
   "metadata": {},
   "outputs": [],
   "source": []
  }
 ],
 "metadata": {
  "kernelspec": {
   "display_name": "Python 3 (ipykernel)",
   "language": "python",
   "name": "python3"
  },
  "language_info": {
   "codemirror_mode": {
    "name": "ipython",
    "version": 3
   },
   "file_extension": ".py",
   "mimetype": "text/x-python",
   "name": "python",
   "nbconvert_exporter": "python",
   "pygments_lexer": "ipython3",
   "version": "3.9.7"
  }
 },
 "nbformat": 4,
 "nbformat_minor": 5
}
