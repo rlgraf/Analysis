{
 "cells": [
  {
   "cell_type": "code",
   "execution_count": 1,
   "id": "955a729d",
   "metadata": {},
   "outputs": [],
   "source": [
    "import numpy as np\n",
    "import matplotlib.pyplot as plt\n",
    "import gizmo_analysis as gizmo\n",
    "import utilities as ut\n",
    "import scipy\n",
    "import utilities.io as ut_io\n",
    "import matplotlib.lines as mlines\n",
    "import scipy"
   ]
  },
  {
   "cell_type": "code",
   "execution_count": 2,
   "id": "a0a804c4",
   "metadata": {},
   "outputs": [
    {
     "name": "stdout",
     "output_type": "stream",
     "text": [
      "\n",
      "# in utilities.io.file_hdf5():\n",
      "  reading file:  Final Figures/RAD_profile_z_0_location_cut_median_weighted_all_ages.hdf5\n",
      "    array | float32, shape = (1, 11, 10)\n",
      "\n",
      "# in utilities.io.file_hdf5():\n",
      "  reading file:  Final Figures/RAD_slope_z_0_location_cut_median_weighted_all_ages.hdf5\n",
      "    array | float64, shape = (1, 11, 1)\n"
     ]
    }
   ],
   "source": [
    "RAD_profile_z_0_loc_cut_median_weighted_all_ages = ut.io.file_hdf5('Final Figures/RAD_profile_z_0_location_cut_median_weighted_all_ages')['array']\n",
    "RAD_profile_form_loc_cut_median_weighted_all_ages = ut.io.file_hdf5('Final Figures/RAD_slope_z_0_location_cut_median_weighted_all_ages')['array']"
   ]
  },
  {
   "cell_type": "code",
   "execution_count": 14,
   "id": "0cd14df9",
   "metadata": {},
   "outputs": [],
   "source": [
    "x1 = np.arange(0.1,1.1,0.1)\n",
    "x1_15 = np.arange(0.1,1.1,1/15)\n",
    "\n",
    "x10 = np.arange(1,11)\n",
    "zeros_10 = np.zeros(10)\n",
    "\n",
    "x12 = np.arange(1,13)\n",
    "zeros_12 = np.zeros(12)\n",
    "\n",
    "x13 = np.arange(1,14)\n",
    "zeros_13 = np.zeros(13)\n",
    "\n",
    "x14 = np.arange(1,15)\n",
    "zeros_14 = np.zeros(14)\n",
    "\n",
    "x15 = np.arange(1,16)\n",
    "zeros_15 = np.zeros(15)\n",
    "\n",
    "x_15_50 = np.arange(1,15,15/50)"
   ]
  },
  {
   "cell_type": "code",
   "execution_count": 26,
   "id": "1c9ccd26",
   "metadata": {},
   "outputs": [
    {
     "ename": "FileNotFoundError",
     "evalue": "[Errno 2] Unable to open file (unable to open file: name = 'RAD_profile_z_0_location_cut_median_weighted.hdf5', errno = 2, error message = 'No such file or directory', flags = 0, o_flags = 0)",
     "output_type": "error",
     "traceback": [
      "\u001b[1;31m---------------------------------------------------------------------------\u001b[0m",
      "\u001b[1;31mFileNotFoundError\u001b[0m                         Traceback (most recent call last)",
      "\u001b[1;32m~\\AppData\\Local\\Temp/ipykernel_13592/3139010101.py\u001b[0m in \u001b[0;36m<module>\u001b[1;34m\u001b[0m\n\u001b[1;32m----> 1\u001b[1;33m \u001b[0mRAD_profile_z_0_loc_cut_median_weighted\u001b[0m \u001b[1;33m=\u001b[0m \u001b[0mut\u001b[0m\u001b[1;33m.\u001b[0m\u001b[0mio\u001b[0m\u001b[1;33m.\u001b[0m\u001b[0mfile_hdf5\u001b[0m\u001b[1;33m(\u001b[0m\u001b[1;34m'RAD_profile_z_0_location_cut_median_weighted'\u001b[0m\u001b[1;33m)\u001b[0m\u001b[1;33m[\u001b[0m\u001b[1;34m'array'\u001b[0m\u001b[1;33m]\u001b[0m\u001b[1;33m\u001b[0m\u001b[1;33m\u001b[0m\u001b[0m\n\u001b[0m\u001b[0;32m      2\u001b[0m \u001b[0mRAD_slope_z_0_loc_cut\u001b[0m \u001b[1;33m=\u001b[0m \u001b[0mut\u001b[0m\u001b[1;33m.\u001b[0m\u001b[0mio\u001b[0m\u001b[1;33m.\u001b[0m\u001b[0mfile_hdf5\u001b[0m\u001b[1;33m(\u001b[0m\u001b[1;34m'Final Figures/RAD_slope_z_0_location_cut'\u001b[0m\u001b[1;33m)\u001b[0m\u001b[1;33m[\u001b[0m\u001b[1;34m'array'\u001b[0m\u001b[1;33m]\u001b[0m\u001b[1;33m\u001b[0m\u001b[1;33m\u001b[0m\u001b[0m\n",
      "\u001b[1;32m~\\anaconda3\\lib\\site-packages\\utilities\\io.py\u001b[0m in \u001b[0;36mfile_hdf5\u001b[1;34m(file_name_base, dict_or_array_to_write, verbose)\u001b[0m\n\u001b[0;32m    945\u001b[0m     \u001b[1;32melse\u001b[0m\u001b[1;33m:\u001b[0m\u001b[1;33m\u001b[0m\u001b[1;33m\u001b[0m\u001b[0m\n\u001b[0;32m    946\u001b[0m         \u001b[1;31m# read from file\u001b[0m\u001b[1;33m\u001b[0m\u001b[1;33m\u001b[0m\u001b[0m\n\u001b[1;32m--> 947\u001b[1;33m         \u001b[1;32mwith\u001b[0m \u001b[0mh5py\u001b[0m\u001b[1;33m.\u001b[0m\u001b[0mFile\u001b[0m\u001b[1;33m(\u001b[0m\u001b[0mfile_name_base\u001b[0m\u001b[1;33m,\u001b[0m \u001b[1;34m'r'\u001b[0m\u001b[1;33m)\u001b[0m \u001b[1;32mas\u001b[0m \u001b[0mfile_in\u001b[0m\u001b[1;33m:\u001b[0m\u001b[1;33m\u001b[0m\u001b[1;33m\u001b[0m\u001b[0m\n\u001b[0m\u001b[0;32m    948\u001b[0m             \u001b[0mSay\u001b[0m\u001b[1;33m.\u001b[0m\u001b[0msay\u001b[0m\u001b[1;33m(\u001b[0m\u001b[1;34m'reading file:  {}'\u001b[0m\u001b[1;33m.\u001b[0m\u001b[0mformat\u001b[0m\u001b[1;33m(\u001b[0m\u001b[0mfile_name_base\u001b[0m\u001b[1;33m.\u001b[0m\u001b[0mlstrip\u001b[0m\u001b[1;33m(\u001b[0m\u001b[1;34m'./'\u001b[0m\u001b[1;33m)\u001b[0m\u001b[1;33m)\u001b[0m\u001b[1;33m,\u001b[0m \u001b[0mverbose\u001b[0m\u001b[1;33m)\u001b[0m\u001b[1;33m\u001b[0m\u001b[1;33m\u001b[0m\u001b[0m\n\u001b[0;32m    949\u001b[0m             \u001b[1;31m# Say.say('reading file:  {}'.format(file_name_base.split('/')[-1]), verbose)\u001b[0m\u001b[1;33m\u001b[0m\u001b[1;33m\u001b[0m\u001b[0m\n",
      "\u001b[1;32m~\\anaconda3\\lib\\site-packages\\h5py\\_hl\\files.py\u001b[0m in \u001b[0;36m__init__\u001b[1;34m(self, name, mode, driver, libver, userblock_size, swmr, rdcc_nslots, rdcc_nbytes, rdcc_w0, track_order, fs_strategy, fs_persist, fs_threshold, **kwds)\u001b[0m\n\u001b[0;32m    440\u001b[0m             \u001b[1;32mwith\u001b[0m \u001b[0mphil\u001b[0m\u001b[1;33m:\u001b[0m\u001b[1;33m\u001b[0m\u001b[1;33m\u001b[0m\u001b[0m\n\u001b[0;32m    441\u001b[0m                 \u001b[0mfapl\u001b[0m \u001b[1;33m=\u001b[0m \u001b[0mmake_fapl\u001b[0m\u001b[1;33m(\u001b[0m\u001b[0mdriver\u001b[0m\u001b[1;33m,\u001b[0m \u001b[0mlibver\u001b[0m\u001b[1;33m,\u001b[0m \u001b[0mrdcc_nslots\u001b[0m\u001b[1;33m,\u001b[0m \u001b[0mrdcc_nbytes\u001b[0m\u001b[1;33m,\u001b[0m \u001b[0mrdcc_w0\u001b[0m\u001b[1;33m,\u001b[0m \u001b[1;33m**\u001b[0m\u001b[0mkwds\u001b[0m\u001b[1;33m)\u001b[0m\u001b[1;33m\u001b[0m\u001b[1;33m\u001b[0m\u001b[0m\n\u001b[1;32m--> 442\u001b[1;33m                 fid = make_fid(name, mode, userblock_size,\n\u001b[0m\u001b[0;32m    443\u001b[0m                                fapl, fcpl=make_fcpl(track_order=track_order, fs_strategy=fs_strategy,\n\u001b[0;32m    444\u001b[0m                                fs_persist=fs_persist, fs_threshold=fs_threshold),\n",
      "\u001b[1;32m~\\anaconda3\\lib\\site-packages\\h5py\\_hl\\files.py\u001b[0m in \u001b[0;36mmake_fid\u001b[1;34m(name, mode, userblock_size, fapl, fcpl, swmr)\u001b[0m\n\u001b[0;32m    193\u001b[0m         \u001b[1;32mif\u001b[0m \u001b[0mswmr\u001b[0m \u001b[1;32mand\u001b[0m \u001b[0mswmr_support\u001b[0m\u001b[1;33m:\u001b[0m\u001b[1;33m\u001b[0m\u001b[1;33m\u001b[0m\u001b[0m\n\u001b[0;32m    194\u001b[0m             \u001b[0mflags\u001b[0m \u001b[1;33m|=\u001b[0m \u001b[0mh5f\u001b[0m\u001b[1;33m.\u001b[0m\u001b[0mACC_SWMR_READ\u001b[0m\u001b[1;33m\u001b[0m\u001b[1;33m\u001b[0m\u001b[0m\n\u001b[1;32m--> 195\u001b[1;33m         \u001b[0mfid\u001b[0m \u001b[1;33m=\u001b[0m \u001b[0mh5f\u001b[0m\u001b[1;33m.\u001b[0m\u001b[0mopen\u001b[0m\u001b[1;33m(\u001b[0m\u001b[0mname\u001b[0m\u001b[1;33m,\u001b[0m \u001b[0mflags\u001b[0m\u001b[1;33m,\u001b[0m \u001b[0mfapl\u001b[0m\u001b[1;33m=\u001b[0m\u001b[0mfapl\u001b[0m\u001b[1;33m)\u001b[0m\u001b[1;33m\u001b[0m\u001b[1;33m\u001b[0m\u001b[0m\n\u001b[0m\u001b[0;32m    196\u001b[0m     \u001b[1;32melif\u001b[0m \u001b[0mmode\u001b[0m \u001b[1;33m==\u001b[0m \u001b[1;34m'r+'\u001b[0m\u001b[1;33m:\u001b[0m\u001b[1;33m\u001b[0m\u001b[1;33m\u001b[0m\u001b[0m\n\u001b[0;32m    197\u001b[0m         \u001b[0mfid\u001b[0m \u001b[1;33m=\u001b[0m \u001b[0mh5f\u001b[0m\u001b[1;33m.\u001b[0m\u001b[0mopen\u001b[0m\u001b[1;33m(\u001b[0m\u001b[0mname\u001b[0m\u001b[1;33m,\u001b[0m \u001b[0mh5f\u001b[0m\u001b[1;33m.\u001b[0m\u001b[0mACC_RDWR\u001b[0m\u001b[1;33m,\u001b[0m \u001b[0mfapl\u001b[0m\u001b[1;33m=\u001b[0m\u001b[0mfapl\u001b[0m\u001b[1;33m)\u001b[0m\u001b[1;33m\u001b[0m\u001b[1;33m\u001b[0m\u001b[0m\n",
      "\u001b[1;32mh5py\\_objects.pyx\u001b[0m in \u001b[0;36mh5py._objects.with_phil.wrapper\u001b[1;34m()\u001b[0m\n",
      "\u001b[1;32mh5py\\_objects.pyx\u001b[0m in \u001b[0;36mh5py._objects.with_phil.wrapper\u001b[1;34m()\u001b[0m\n",
      "\u001b[1;32mh5py\\h5f.pyx\u001b[0m in \u001b[0;36mh5py.h5f.open\u001b[1;34m()\u001b[0m\n",
      "\u001b[1;31mFileNotFoundError\u001b[0m: [Errno 2] Unable to open file (unable to open file: name = 'RAD_profile_z_0_location_cut_median_weighted.hdf5', errno = 2, error message = 'No such file or directory', flags = 0, o_flags = 0)"
     ]
    }
   ],
   "source": [
    "RAD_profile_z_0_loc_cut_median_weighted = ut.io.file_hdf5('RAD_profile_z_0_location_cut_median_weighted')['array']\n",
    "RAD_slope_z_0_loc_cut = ut.io.file_hdf5('Final Figures/RAD_slope_z_0_location_cut')['array']"
   ]
  },
  {
   "cell_type": "code",
   "execution_count": 20,
   "id": "86a7fd70",
   "metadata": {},
   "outputs": [],
   "source": [
    "RAD_slope_z_0_final_loc_cut_pre = np.nanmean(RAD_slope_z_0_loc_cut[0],0,)\n",
    "RAD_slope_z_0_final_loc_cut_pre_std = np.nanstd(RAD_slope_z_0_loc_cut[0],0)\n",
    "RAD_slope_z_0_final_loc_cut = RAD_slope_z_0_final_loc_cut_pre[0:13]"
   ]
  },
  {
   "cell_type": "code",
   "execution_count": 8,
   "id": "a240a96b",
   "metadata": {},
   "outputs": [
    {
     "name": "stdout",
     "output_type": "stream",
     "text": [
      "\n",
      "# in utilities.io.file_hdf5():\n",
      "  reading file:  Final Figures/RAD_profile_z_0_location_cut_median_obs50.hdf5\n",
      "    array | float32, shape = (1, 11, 14, 10)\n",
      "\n",
      "# in utilities.io.file_hdf5():\n",
      "  reading file:  Final Figures/RAD_slope_z_0_location_cut_median_obs50.hdf5\n",
      "    array | float64, shape = (1, 11, 14)\n"
     ]
    }
   ],
   "source": [
    "RAD_profile_z_0_location_cut_median_obs50 = ut.io.file_hdf5('Final Figures/RAD_profile_z_0_location_cut_median_obs50.hdf5')['array']\n",
    "RAD_slope_z_0_location_cut_median_obs50 = ut.io.file_hdf5('Final Figures/RAD_slope_z_0_location_cut_median_obs50.hdf5')['array']"
   ]
  },
  {
   "cell_type": "code",
   "execution_count": 22,
   "id": "77f726b5",
   "metadata": {},
   "outputs": [
    {
     "data": {
      "text/plain": [
       "(13,)"
      ]
     },
     "execution_count": 22,
     "metadata": {},
     "output_type": "execute_result"
    }
   ],
   "source": [
    "RAD_profile_z_0_location_cut_median_obs50_mean = np.nanmean(RAD_profile_z_0_location_cut_median_obs50[0], 0)\n",
    "np.shape(RAD_profile_z_0_location_cut_median_obs50_mean)\n",
    "\n",
    "RAD_slope_z_0_location_cut_median_obs50_mean_pre = np.nanmean(RAD_slope_z_0_location_cut_median_obs50[0], 0)\n",
    "RAD_slope_z_0_location_cut_median_obs50_mean = RAD_slope_z_0_location_cut_median_obs50_mean_pre[0:13]\n",
    "np.shape(RAD_slope_z_0_location_cut_median_obs50_mean)\n",
    "\n"
   ]
  },
  {
   "cell_type": "code",
   "execution_count": 24,
   "id": "c9312d2f",
   "metadata": {},
   "outputs": [
    {
     "data": {
      "text/plain": [
       "[<matplotlib.lines.Line2D at 0x27ae0f2da00>]"
      ]
     },
     "execution_count": 24,
     "metadata": {},
     "output_type": "execute_result"
    },
    {
     "data": {
      "image/png": "[encoded data removed]",
      "text/plain": [
       "<Figure size 432x288 with 1 Axes>"
      ]
     },
     "metadata": {
      "needs_background": "light"
     },
     "output_type": "display_data"
    }
   ],
   "source": [
    "plt.plot(x13, RAD_slope_z_0_location_cut_median_obs50_mean)\n",
    "plt.plot(x13, RAD_slope_z_0_final_loc_cut)"
   ]
  },
  {
   "cell_type": "code",
   "execution_count": 25,
   "id": "929b83c4",
   "metadata": {},
   "outputs": [
    {
     "ename": "NameError",
     "evalue": "name 'RAD_profile_z_0_loc_cut_mean' is not defined",
     "output_type": "error",
     "traceback": [
      "\u001b[1;31m---------------------------------------------------------------------------\u001b[0m",
      "\u001b[1;31mNameError\u001b[0m                                 Traceback (most recent call last)",
      "\u001b[1;32m~\\AppData\\Local\\Temp/ipykernel_13592/1152976295.py\u001b[0m in \u001b[0;36m<module>\u001b[1;34m\u001b[0m\n\u001b[1;32m----> 1\u001b[1;33m \u001b[0mRAD_profile_z_0_loc_cut_0_1\u001b[0m \u001b[1;33m=\u001b[0m \u001b[0mRAD_profile_z_0_loc_cut_mean\u001b[0m\u001b[1;33m[\u001b[0m\u001b[1;36m0\u001b[0m\u001b[1;33m,\u001b[0m\u001b[1;33m:\u001b[0m\u001b[1;33m]\u001b[0m\u001b[1;33m\u001b[0m\u001b[1;33m\u001b[0m\u001b[0m\n\u001b[0m\u001b[0;32m      2\u001b[0m \u001b[0mRAD_profile_z_0_loc_cut_4_5\u001b[0m \u001b[1;33m=\u001b[0m \u001b[0mRAD_profile_z_0_loc_cut_mean\u001b[0m\u001b[1;33m[\u001b[0m\u001b[1;36m4\u001b[0m\u001b[1;33m,\u001b[0m\u001b[1;33m:\u001b[0m\u001b[1;33m]\u001b[0m\u001b[1;33m\u001b[0m\u001b[1;33m\u001b[0m\u001b[0m\n\u001b[0;32m      3\u001b[0m \u001b[0mRAD_profile_z_0_loc_cut_8_9\u001b[0m \u001b[1;33m=\u001b[0m \u001b[0mRAD_profile_z_0_loc_cut_mean\u001b[0m\u001b[1;33m[\u001b[0m\u001b[1;36m8\u001b[0m\u001b[1;33m,\u001b[0m\u001b[1;33m:\u001b[0m\u001b[1;33m]\u001b[0m\u001b[1;33m\u001b[0m\u001b[1;33m\u001b[0m\u001b[0m\n\u001b[0;32m      4\u001b[0m \u001b[0mRAD_profile_z_0_loc_cut_11_12\u001b[0m \u001b[1;33m=\u001b[0m \u001b[0mRAD_profile_z_0_loc_cut_mean\u001b[0m\u001b[1;33m[\u001b[0m\u001b[1;36m11\u001b[0m\u001b[1;33m,\u001b[0m\u001b[1;33m:\u001b[0m\u001b[1;33m]\u001b[0m\u001b[1;33m\u001b[0m\u001b[1;33m\u001b[0m\u001b[0m\n",
      "\u001b[1;31mNameError\u001b[0m: name 'RAD_profile_z_0_loc_cut_mean' is not defined"
     ]
    }
   ],
   "source": [
    "RAD_profile_z_0_loc_cut_0_1 = RAD_profile_z_0_loc_cut_mean[0,:]\n",
    "RAD_profile_z_0_loc_cut_4_5 = RAD_profile_z_0_loc_cut_mean[4,:]\n",
    "RAD_profile_z_0_loc_cut_8_9 = RAD_profile_z_0_loc_cut_mean[8,:]\n",
    "RAD_profile_z_0_loc_cut_11_12 = RAD_profile_z_0_loc_cut_mean[11,:]"
   ]
  },
  {
   "cell_type": "code",
   "execution_count": null,
   "id": "37526c1a",
   "metadata": {},
   "outputs": [],
   "source": []
  }
 ],
 "metadata": {
  "kernelspec": {
   "display_name": "Python 3 (ipykernel)",
   "language": "python",
   "name": "python3"
  },
  "language_info": {
   "codemirror_mode": {
    "name": "ipython",
    "version": 3
   },
   "file_extension": ".py",
   "mimetype": "text/x-python",
   "name": "python",
   "nbconvert_exporter": "python",
   "pygments_lexer": "ipython3",
   "version": "3.9.7"
  }
 },
 "nbformat": 4,
 "nbformat_minor": 5
}
