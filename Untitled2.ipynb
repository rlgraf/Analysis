{
 "cells": [
  {
   "cell_type": "code",
   "execution_count": 8,
   "id": "879a5ac9",
   "metadata": {},
   "outputs": [],
   "source": [
    "worthy = 4\n",
    "Rachel = worthy"
   ]
  },
  {
   "cell_type": "code",
   "execution_count": 36,
   "id": "ef542810",
   "metadata": {},
   "outputs": [],
   "source": [
    "def Is_Rachel(x):\n",
    "    if x == 'a Nigger?':\n",
    "        print('No.')\n",
    "    if x == 'Wife Material?':\n",
    "        print('Absolutely.')\n",
    "    if x == 'Mossad?':\n",
    "        print('... no way of telling.')\n",
    "    if x == 'in my walls?':\n",
    "        print('SHES IN THE WALLS SHES IN THE WALLS SHES IN THE WALLS SHES IN THE WALLS SHES IN THE WALLS SHES IN THE WALLS SHES IN THE WALLS SHES IN THE WALLS SHES IN THE WALLS SHES IN THE WALLS SHES IN THE WALLS SHES IN THE WALLSSHES IN THE WALLS SHES IN THE WALLS SHES IN THE WALLS SHES IN THE WALLS SHES IN THE WALLS SHES IN THE WALLS' 'SHES IN THE WALLS SHES IN THE WALLS SHES IN THE WALLS SHES IN THE WALLS SHES IN THE WALLS SHES IN THE WALLS SHES IN THE WALLS SHES IN THE WALLS SHES IN THE WALLS SHES IN THE WALLS SHES IN THE WALLS SHES IN THE WALLSSHES IN THE WALLS SHES IN THE WALLS SHES IN THE WALLS SHES IN THE WALLS SHES IN THE WALLS SHES IN THE WALLS SHES IN THE WALLS SHES IN THE WALLS SHES IN THE WALLS SHES IN THE WALLS SHES IN THE WALLS SHES IN THE WALLS SHES IN THE WALLS SHES IN THE WALLS SHES IN THE WALLS SHES IN THE WALLS SHES IN THE WALLS SHES IN THE WALLSSHES IN THE WALLS SHES IN THE WALLS SHES IN THE WALLS SHES IN THE WALLS SHES IN THE WALLS SHES IN THE WALLS SHES IN THE WALLS SHES IN THE WALLS SHES IN THE WALLS SHES IN THE WALLS SHES IN THE WALLS SHES IN THE WALLS SHES IN THE WALLS SHES IN THE WALLS SHES IN THE WALLS SHES IN THE WALLS SHES IN THE WALLS SHES IN THE WALLSSHES IN THE WALLS SHES IN THE WALLS SHES IN THE WALLS SHES IN THE WALLS SHES IN THE WALLS SHES IN THE WALLS SHES IN THE WALLS SHES IN THE WALLS SHES IN THE WALLS SHES IN THE WALLS SHES IN THE WALLS SHES IN THE WALLS SHES IN THE WALLS SHES IN THE WALLS SHES IN THE WALLS SHES IN THE WALLS SHES IN THE WALLS SHES IN THE WALLSSHES IN THE WALLS SHES IN THE WALLS SHES IN THE WALLS SHES IN THE WALLS SHES IN THE WALLS SHES IN THE WALLS SHES IN THE WALLS SHES IN THE WALLS SHES IN THE WALLS SHES IN THE WALLS SHES IN THE WALLS SHES IN THE WALLS SHES IN THE WALLS SHES IN THE WALLS SHES IN THE WALLS SHES IN THE WALLS SHES IN THE WALLS SHES IN THE WALLSSHES IN THE WALLS SHES IN THE WALLS SHES IN THE WALLS SHES IN THE WALLS SHES IN THE WALLS SHES IN THE WALLS SHES IN THE WALLS SHES IN THE WALLS SHES IN THE WALLS SHES IN THE WALLS SHES IN THE WALLS SHES IN THE WALLS SHES IN THE WALLS SHES IN THE WALLS SHES IN THE WALLS SHES IN THE WALLS SHES IN THE WALLS SHES IN THE WALLSSHES IN THE WALLS SHES IN THE WALLS SHES IN THE WALLS SHES IN THE WALLS SHES IN THE WALLS SHES IN THE WALLS SHES IN THE WALLS SHES IN THE WALLS SHES IN THE WALLS SHES IN THE WALLS SHES IN THE WALLS SHES IN THE WALLS SHES IN THE WALLS SHES IN THE WALLS SHES IN THE WALLS SHES IN THE WALLS SHES IN THE WALLS SHES IN THE WALLSSHES IN THE WALLS SHES IN THE WALLS SHES IN THE WALLS SHES IN THE WALLS SHES IN THE WALLS SHES IN THE WALLS SHES IN THE WALLS SHES IN THE WALLS SHES IN THE WALLS SHES IN THE WALLS SHES IN THE WALLS SHES IN THE WALLS SHES IN THE WALLS SHES IN THE WALLS SHES IN THE WALLS SHES IN THE WALLS SHES IN THE WALLS SHES IN THE WALLSSHES IN THE WALLS SHES IN THE WALLS SHES IN THE WALLS SHES IN THE WALLS SHES IN THE WALLS SHES IN THE WALLS SHES IN THE WALLS SHES IN THE WALLS SHES IN THE WALLS SHES IN THE WALLS SHES IN THE WALLS SHES IN THE WALLS SHES IN THE WALLS SHES IN THE WALLS SHES IN THE WALLS SHES IN THE WALLS SHES IN THE WALLS SHES IN THE WALLSSHES IN THE WALLS SHES IN THE WALLS SHES IN THE WALLS SHES IN THE WALLS SHES IN THE WALLS SHES IN THE WALLS')"
   ]
  },
  {
   "cell_type": "code",
   "execution_count": null,
   "id": "7c451bc3",
   "metadata": {},
   "outputs": [],
   "source": []
  },
  {
   "cell_type": "code",
   "execution_count": null,
   "id": "40903e39",
   "metadata": {},
   "outputs": [],
   "source": []
  },
  {
   "cell_type": "code",
   "execution_count": null,
   "id": "a83e108e",
   "metadata": {},
   "outputs": [],
   "source": []
  },
  {
   "cell_type": "code",
   "execution_count": null,
   "id": "633215d6",
   "metadata": {},
   "outputs": [],
   "source": []
  },
  {
   "cell_type": "code",
   "execution_count": null,
   "id": "2324ff8e",
   "metadata": {},
   "outputs": [],
   "source": []
  },
  {
   "cell_type": "code",
   "execution_count": null,
   "id": "26febec3",
   "metadata": {},
   "outputs": [],
   "source": []
  },
  {
   "cell_type": "code",
   "execution_count": null,
   "id": "44392ab3",
   "metadata": {},
   "outputs": [],
   "source": []
  },
  {
   "cell_type": "code",
   "execution_count": null,
   "id": "3126339a",
   "metadata": {},
   "outputs": [],
   "source": []
  },
  {
   "cell_type": "code",
   "execution_count": null,
   "id": "b9508f38",
   "metadata": {},
   "outputs": [],
   "source": []
  },
  {
   "cell_type": "code",
   "execution_count": null,
   "id": "8b69ca4d",
   "metadata": {},
   "outputs": [],
   "source": []
  },
  {
   "cell_type": "code",
   "execution_count": null,
   "id": "4420cbb0",
   "metadata": {},
   "outputs": [],
   "source": []
  },
  {
   "cell_type": "code",
   "execution_count": null,
   "id": "b1b4f6cf",
   "metadata": {},
   "outputs": [],
   "source": []
  },
  {
   "cell_type": "code",
   "execution_count": null,
   "id": "9da3ff8e",
   "metadata": {},
   "outputs": [],
   "source": []
  },
  {
   "cell_type": "code",
   "execution_count": null,
   "id": "f2305c25",
   "metadata": {},
   "outputs": [],
   "source": []
  },
  {
   "cell_type": "code",
   "execution_count": null,
   "id": "efef2570",
   "metadata": {},
   "outputs": [],
   "source": []
  },
  {
   "cell_type": "code",
   "execution_count": null,
   "id": "768c500b",
   "metadata": {},
   "outputs": [],
   "source": []
  },
  {
   "cell_type": "code",
   "execution_count": null,
   "id": "607c37d8",
   "metadata": {},
   "outputs": [],
   "source": []
  },
  {
   "cell_type": "code",
   "execution_count": null,
   "id": "d993f15b",
   "metadata": {},
   "outputs": [],
   "source": []
  },
  {
   "cell_type": "code",
   "execution_count": 38,
   "id": "b1781b8b",
   "metadata": {},
   "outputs": [],
   "source": []
  },
  {
   "cell_type": "code",
   "execution_count": null,
   "id": "de21d72d",
   "metadata": {},
   "outputs": [],
   "source": []
  },
  {
   "cell_type": "code",
   "execution_count": null,
   "id": "4d092c59",
   "metadata": {},
   "outputs": [],
   "source": []
  },
  {
   "cell_type": "code",
   "execution_count": null,
   "id": "51557884",
   "metadata": {},
   "outputs": [],
   "source": []
  },
  {
   "cell_type": "code",
   "execution_count": null,
   "id": "08db9854",
   "metadata": {},
   "outputs": [],
   "source": []
  },
  {
   "cell_type": "code",
   "execution_count": null,
   "id": "cf852ebd",
   "metadata": {},
   "outputs": [],
   "source": []
  },
  {
   "cell_type": "code",
   "execution_count": null,
   "id": "006f24de",
   "metadata": {},
   "outputs": [],
   "source": []
  },
  {
   "cell_type": "code",
   "execution_count": null,
   "id": "ef838fae",
   "metadata": {},
   "outputs": [],
   "source": []
  },
  {
   "cell_type": "code",
   "execution_count": null,
   "id": "4d48a3b7",
   "metadata": {},
   "outputs": [],
   "source": []
  },
  {
   "cell_type": "code",
   "execution_count": null,
   "id": "d8b3c1dd",
   "metadata": {},
   "outputs": [],
   "source": []
  },
  {
   "cell_type": "code",
   "execution_count": 48,
   "id": "c7301505",
   "metadata": {},
   "outputs": [
    {
     "name": "stdout",
     "output_type": "stream",
     "text": [
      "No.\n"
     ]
    }
   ],
   "source": [
    "Is_Rachel('a Nigger?')"
   ]
  },
  {
   "cell_type": "code",
   "execution_count": 49,
   "id": "9c6a4ec8",
   "metadata": {},
   "outputs": [
    {
     "name": "stdout",
     "output_type": "stream",
     "text": [
      "Absolutely.\n"
     ]
    }
   ],
   "source": [
    "Is_Rachel('Wife Material?')"
   ]
  },
  {
   "cell_type": "code",
   "execution_count": 50,
   "id": "946f351c",
   "metadata": {},
   "outputs": [
    {
     "name": "stdout",
     "output_type": "stream",
     "text": [
      "... no way of telling.\n"
     ]
    }
   ],
   "source": [
    "Is_Rachel('Mossad?')"
   ]
  },
  {
   "cell_type": "code",
   "execution_count": 51,
   "id": "66461050",
   "metadata": {},
   "outputs": [
    {
     "name": "stdout",
     "output_type": "stream",
     "text": [
      "SHES IN THE WALLS SHES IN THE WALLS SHES IN THE WALLS SHES IN THE WALLS SHES IN THE WALLS SHES IN THE WALLS SHES IN THE WALLS SHES IN THE WALLS SHES IN THE WALLS SHES IN THE WALLS SHES IN THE WALLS SHES IN THE WALLSSHES IN THE WALLS SHES IN THE WALLS SHES IN THE WALLS SHES IN THE WALLS SHES IN THE WALLS SHES IN THE WALLSSHES IN THE WALLS SHES IN THE WALLS SHES IN THE WALLS SHES IN THE WALLS SHES IN THE WALLS SHES IN THE WALLS SHES IN THE WALLS SHES IN THE WALLS SHES IN THE WALLS SHES IN THE WALLS SHES IN THE WALLS SHES IN THE WALLSSHES IN THE WALLS SHES IN THE WALLS SHES IN THE WALLS SHES IN THE WALLS SHES IN THE WALLS SHES IN THE WALLS SHES IN THE WALLS SHES IN THE WALLS SHES IN THE WALLS SHES IN THE WALLS SHES IN THE WALLS SHES IN THE WALLS SHES IN THE WALLS SHES IN THE WALLS SHES IN THE WALLS SHES IN THE WALLS SHES IN THE WALLS SHES IN THE WALLSSHES IN THE WALLS SHES IN THE WALLS SHES IN THE WALLS SHES IN THE WALLS SHES IN THE WALLS SHES IN THE WALLS SHES IN THE WALLS SHES IN THE WALLS SHES IN THE WALLS SHES IN THE WALLS SHES IN THE WALLS SHES IN THE WALLS SHES IN THE WALLS SHES IN THE WALLS SHES IN THE WALLS SHES IN THE WALLS SHES IN THE WALLS SHES IN THE WALLSSHES IN THE WALLS SHES IN THE WALLS SHES IN THE WALLS SHES IN THE WALLS SHES IN THE WALLS SHES IN THE WALLS SHES IN THE WALLS SHES IN THE WALLS SHES IN THE WALLS SHES IN THE WALLS SHES IN THE WALLS SHES IN THE WALLS SHES IN THE WALLS SHES IN THE WALLS SHES IN THE WALLS SHES IN THE WALLS SHES IN THE WALLS SHES IN THE WALLSSHES IN THE WALLS SHES IN THE WALLS SHES IN THE WALLS SHES IN THE WALLS SHES IN THE WALLS SHES IN THE WALLS SHES IN THE WALLS SHES IN THE WALLS SHES IN THE WALLS SHES IN THE WALLS SHES IN THE WALLS SHES IN THE WALLS SHES IN THE WALLS SHES IN THE WALLS SHES IN THE WALLS SHES IN THE WALLS SHES IN THE WALLS SHES IN THE WALLSSHES IN THE WALLS SHES IN THE WALLS SHES IN THE WALLS SHES IN THE WALLS SHES IN THE WALLS SHES IN THE WALLS SHES IN THE WALLS SHES IN THE WALLS SHES IN THE WALLS SHES IN THE WALLS SHES IN THE WALLS SHES IN THE WALLS SHES IN THE WALLS SHES IN THE WALLS SHES IN THE WALLS SHES IN THE WALLS SHES IN THE WALLS SHES IN THE WALLSSHES IN THE WALLS SHES IN THE WALLS SHES IN THE WALLS SHES IN THE WALLS SHES IN THE WALLS SHES IN THE WALLS SHES IN THE WALLS SHES IN THE WALLS SHES IN THE WALLS SHES IN THE WALLS SHES IN THE WALLS SHES IN THE WALLS SHES IN THE WALLS SHES IN THE WALLS SHES IN THE WALLS SHES IN THE WALLS SHES IN THE WALLS SHES IN THE WALLSSHES IN THE WALLS SHES IN THE WALLS SHES IN THE WALLS SHES IN THE WALLS SHES IN THE WALLS SHES IN THE WALLS SHES IN THE WALLS SHES IN THE WALLS SHES IN THE WALLS SHES IN THE WALLS SHES IN THE WALLS SHES IN THE WALLS SHES IN THE WALLS SHES IN THE WALLS SHES IN THE WALLS SHES IN THE WALLS SHES IN THE WALLS SHES IN THE WALLSSHES IN THE WALLS SHES IN THE WALLS SHES IN THE WALLS SHES IN THE WALLS SHES IN THE WALLS SHES IN THE WALLS SHES IN THE WALLS SHES IN THE WALLS SHES IN THE WALLS SHES IN THE WALLS SHES IN THE WALLS SHES IN THE WALLS SHES IN THE WALLS SHES IN THE WALLS SHES IN THE WALLS SHES IN THE WALLS SHES IN THE WALLS SHES IN THE WALLSSHES IN THE WALLS SHES IN THE WALLS SHES IN THE WALLS SHES IN THE WALLS SHES IN THE WALLS SHES IN THE WALLS\n"
     ]
    }
   ],
   "source": [
    "Is_Rachel('in my walls?')"
   ]
  },
  {
   "cell_type": "code",
   "execution_count": null,
   "id": "838b6466",
   "metadata": {},
   "outputs": [],
   "source": []
  }
 ],
 "metadata": {
  "kernelspec": {
   "display_name": "Python 3 (ipykernel)",
   "language": "python",
   "name": "python3"
  },
  "language_info": {
   "codemirror_mode": {
    "name": "ipython",
    "version": 3
   },
   "file_extension": ".py",
   "mimetype": "text/x-python",
   "name": "python",
   "nbconvert_exporter": "python",
   "pygments_lexer": "ipython3",
   "version": "3.9.7"
  }
 },
 "nbformat": 4,
 "nbformat_minor": 5
}
